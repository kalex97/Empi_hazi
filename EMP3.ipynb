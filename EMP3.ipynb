{
 "cells": [
  {
   "cell_type": "code",
   "execution_count": 47,
   "id": "d47d7eb5",
   "metadata": {},
   "outputs": [],
   "source": [
    "import pandas as pd\n",
    "import numpy as np\n",
    "import matplotlib.pyplot as plt\n",
    "import seaborn as sns\n",
    "import networkx as nx\n",
    "from itertools import combinations"
   ]
  },
  {
   "cell_type": "code",
   "execution_count": 2,
   "id": "79113e28",
   "metadata": {},
   "outputs": [],
   "source": [
    "COLUMNS_STR = \"\"\"    user_id\n",
    "    public\n",
    "    completion_percentage\n",
    "    gender\n",
    "    region\n",
    "    last_login\n",
    "    registration\n",
    "    AGE\n",
    "    body\n",
    "    I_am_working_in_field\n",
    "    spoken_languages\n",
    "    hobbies\n",
    "    I_most_enjoy_good_food\n",
    "    pets\n",
    "    body_type\n",
    "    my_eyesight\n",
    "    eye_color\n",
    "    hair_color\n",
    "    hair_type\n",
    "    completed_level_of_education\n",
    "    favourite_color\n",
    "    relation_to_smoking\n",
    "    relation_to_alcohol\n",
    "    sign_in_zodiac\n",
    "    on_pokec_i_am_looking_for\n",
    "    love_is_for_me\n",
    "    relation_to_casual_sex\n",
    "    my_partner_should_be\n",
    "    marital_status\n",
    "    children\n",
    "    relation_to_children\n",
    "    I_like_movies\n",
    "    I_like_watching_movie\n",
    "    I_like_music\n",
    "    I_mostly_like_listening_to_music\n",
    "    the_idea_of_good_evening\n",
    "    I_like_specialties_from_kitchen\n",
    "    fun\n",
    "    I_am_going_to_concerts\n",
    "    my_active_sports\n",
    "    my_passive_sports\n",
    "    profession\n",
    "    I_like_books\n",
    "    life_style\n",
    "    music\n",
    "    cars\n",
    "    politics\n",
    "    relationships\n",
    "    art_culture\n",
    "    hobbies_interests\n",
    "    science_technologies\n",
    "    computers_internet\n",
    "    education\n",
    "    sport\n",
    "    movies\n",
    "    travelling\n",
    "    health\n",
    "    companies_brands\n",
    "    more\"\"\"\n",
    "COLUMNS_LIST = [col.strip() for col in COLUMNS_STR.split(\"\\n\")]"
   ]
  },
  {
   "cell_type": "code",
   "execution_count": 3,
   "id": "69d80578",
   "metadata": {},
   "outputs": [],
   "source": [
    "def select_relevant_profiles(all_profiles):\n",
    "    \"\"\"Select relevant profiles\n",
    "    criteria:\n",
    "    * is public\n",
    "    * region is selected region\n",
    "    * AGE specified\n",
    "    * GENDER SPECIFIED\n",
    "    \"\"\"\n",
    "    public_condition = all_profiles[\"public\"] == 1\n",
    "    age_condition = all_profiles[\"AGE\"] > 14\n",
    "    gender_condition = all_profiles[\"gender\"].isin([0, 1])\n",
    "    return all_profiles.loc[public_condition & age_condition & gender_condition]"
   ]
  },
  {
   "cell_type": "code",
   "execution_count": 4,
   "id": "296eeaf2",
   "metadata": {},
   "outputs": [],
   "source": [
    "def select_relevant_edges(all_edges, selected_ids):\n",
    "    \"\"\"Select relevant edges for those profiles that are relevant\"\"\"\n",
    "    source_condition = all_edges[\"source\"].isin(selected_ids)\n",
    "    sink_condition = all_edges[\"sink\"].isin(selected_ids)\n",
    "    return all_edges.loc[source_condition & sink_condition]"
   ]
  },
  {
   "cell_type": "code",
   "execution_count": 5,
   "id": "00a31523",
   "metadata": {},
   "outputs": [],
   "source": [
    "def convert_edges_to_undirected(edges):\n",
    "    \"\"\"Convert edges to undirected, and keep only mutual connections\"\"\"\n",
    "    undirected_edges = (\n",
    "        edges.assign(\n",
    "            smaller_id=lambda df: df[[\"source\", \"sink\"]].min(axis=1),\n",
    "            greater_id=lambda df: df[[\"source\", \"sink\"]].max(axis=1),\n",
    "        )\n",
    "        .groupby([\"smaller_id\", \"greater_id\"])\n",
    "        .agg({\"source\": \"count\"})\n",
    "    )\n",
    "    print(undirected_edges[\"source\"].value_counts())\n",
    "    return (\n",
    "        undirected_edges.loc[undirected_edges[\"source\"] == 2]\n",
    "        .drop(\"source\", axis=1)\n",
    "        .reset_index()\n",
    "    )"
   ]
  },
  {
   "cell_type": "code",
   "execution_count": 6,
   "id": "d2b2563d",
   "metadata": {},
   "outputs": [],
   "source": [
    "def remove_test_set_gender_and_age(nodes):\n",
    "    \"\"\"Remove the gender feature from a subset of the nodes for estimation\"\"\"\n",
    "    # todo: the 40k  random can be adjusted if youre working with a subset\n",
    "    test_profiles = np.random.choice(nodes[\"user_id\"].unique(), 40000, replace=False)\n",
    "    nodes[\"TRAIN_TEST\"] = \"TRAIN\"\n",
    "    test_condition = nodes[\"user_id\"].isin(test_profiles)\n",
    "    nodes.loc[test_condition, [\"AGE\", \"gender\"]] = np.nan\n",
    "    nodes.loc[test_condition, [\"TRAIN_TEST\"]] = \"TEST\"\n",
    "\n",
    "    return nodes"
   ]
  },
  {
   "cell_type": "code",
   "execution_count": 120,
   "id": "7bddfddb",
   "metadata": {},
   "outputs": [],
   "source": [
    "def load_and_select_profiles_and_edges(full=\"N\"):\n",
    "    \"\"\"load and select relevant profiles, then filter and undirect edges\"\"\"\n",
    "    print(\"loading profiles\")\n",
    "    # TODO: Add some functionality to only read a subset of the data!\n",
    "    profiles = pd.read_csv(\n",
    "        \"data/soc-pokec-profiles.txt.gz\",\n",
    "        sep=\"\\t\",\n",
    "        names=COLUMNS_LIST,\n",
    "        index_col=False,\n",
    "        usecols=[\"user_id\", \"public\", \"gender\", \"region\", \"AGE\"],\n",
    "    )\n",
    "    print(\"loading edges\")\n",
    "    edges = pd.read_csv(\n",
    "        \"data/soc-pokec-relationships.txt.gz\", sep=\"\\t\", names=[\"source\", \"sink\"]\n",
    "    )\n",
    "    selected_profiles = select_relevant_profiles(profiles)\n",
    "    selected_ids = selected_profiles[\"user_id\"].unique()\n",
    "    selected_edges = select_relevant_edges(edges, selected_ids)\n",
    "    undirected_edges = convert_edges_to_undirected(selected_edges)\n",
    "    nodes_with_edges = set(undirected_edges[\"smaller_id\"].unique()).union(\n",
    "        undirected_edges[\"greater_id\"].unique()\n",
    "    )\n",
    "    print(f\"Selected profiles: {len(selected_profiles)}\")\n",
    "    print(f\"Nodes with edges: {len(nodes_with_edges)}\")\n",
    "    selected_profiles = selected_profiles[\n",
    "        selected_profiles[\"user_id\"].isin(nodes_with_edges)\n",
    "    ]\n",
    "    selected_profiles[\"AGE\"] = selected_profiles[\"AGE\"].clip(upper=50)\n",
    "    if full== \"N\":\n",
    "        selected_profiles = remove_test_set_gender_and_age(selected_profiles)\n",
    "    \n",
    "    return selected_profiles, undirected_edges"
   ]
  },
  {
   "cell_type": "code",
   "execution_count": 8,
   "id": "96f0e45c",
   "metadata": {},
   "outputs": [],
   "source": [
    "def create_graph_from_nodes_and_edges(nodes, edges):\n",
    "    \"\"\"Create a networkx graph object with all relevant features\"\"\"\n",
    "    node_attributes = nodes.set_index(\"user_id\").to_dict(orient=\"index\")\n",
    "    node_attributes_list = [\n",
    "        (index, attr_dict) for index, attr_dict in node_attributes.items()\n",
    "    ]\n",
    "    G = nx.Graph()\n",
    "    G.add_nodes_from(node_attributes_list)\n",
    "    G.add_edges_from(edges.values.tolist())\n",
    "    return G"
   ]
  },
  {
   "cell_type": "code",
   "execution_count": 9,
   "id": "d1c5cf0e",
   "metadata": {},
   "outputs": [],
   "source": [
    "def add_node_features_to_edges(nodes, edges):\n",
    "    \"\"\"Add features of nodes to edges in order to create heatmaps\"\"\"\n",
    "    # TODO: column names could be nicer!\n",
    "    edges_w_features = edges.merge(\n",
    "        nodes[[\"user_id\", \"AGE\", \"gender\"]].set_index(\"user_id\"),\n",
    "        how=\"left\",\n",
    "        left_on=\"smaller_id\",\n",
    "        right_index=True,\n",
    "    )\n",
    "    edges_w_features = edges_w_features.merge(\n",
    "        nodes[[\"user_id\", \"AGE\", \"gender\"]].set_index(\"user_id\"),\n",
    "        how=\"left\",\n",
    "        left_on=\"greater_id\",\n",
    "        right_index=True,\n",
    "    )\n",
    "    return edges_w_features"
   ]
  },
  {
   "cell_type": "code",
   "execution_count": 10,
   "id": "88da1fdf",
   "metadata": {},
   "outputs": [],
   "source": [
    "def plot_degree_distribution(G):\n",
    "    \"\"\"Plot a degree distribution of a graph\n",
    "    TODO: log-log binning! To understand this better, check out networksciencebook.com\n",
    "    \"\"\"\n",
    "    plot_df = (\n",
    "        pd.Series(dict(G.degree)).value_counts().sort_index().to_frame().reset_index()\n",
    "    )\n",
    "    plot_df.columns = [\"k\", \"count\"]\n",
    "    plot_df[\"log_k\"] = np.log(plot_df[\"k\"])\n",
    "    plot_df[\"log_count\"] = np.log(plot_df[\"count\"])\n",
    "    fig, ax = plt.subplots()\n",
    "    ax.scatter(plot_df[\"k\"], plot_df[\"count\"])\n",
    "    ax.set_xscale(\"log\")\n",
    "    ax.set_yscale(\"log\")\n",
    "    fig.suptitle(\"Mutual Degree Distribution\")\n",
    "    ax.set_xlabel(\"k\")\n",
    "    ax.set_ylabel(\"count_k\")"
   ]
  },
  {
   "cell_type": "code",
   "execution_count": 11,
   "id": "70c0e5ab",
   "metadata": {},
   "outputs": [],
   "source": [
    "def plot_age_distribution_by_gender(nodes):\n",
    "    \"\"\"Plot a histogram where the color represents gender\"\"\"\n",
    "    plot_df = nodes[[\"AGE\", \"gender\"]].copy(deep=True).astype(float)\n",
    "    plot_df[\"gender\"] = plot_df[\"gender\"].replace({0.0: \"woman\", 1.0: \"man\"})\n",
    "    sns.histplot(data=plot_df, x=\"AGE\", hue=\"gender\", bins=np.arange(0, 45, 5) + 15)"
   ]
  },
  {
   "cell_type": "code",
   "execution_count": 12,
   "id": "17d52b42",
   "metadata": {},
   "outputs": [],
   "source": [
    "def plot_node_degree_by_gender(nodes, G):\n",
    "    \"\"\"Plot the average of node degree across age and gender\"\"\"\n",
    "    nodes_w_degree = nodes.set_index(\"user_id\").merge(\n",
    "        pd.Series(dict(G.degree)).to_frame(),\n",
    "        how=\"left\",\n",
    "        left_index=True,\n",
    "        right_index=True,\n",
    "    )\n",
    "    nodes_w_degree = nodes_w_degree.rename({0: \"degree\"}, axis=1)\n",
    "    plot_df = (\n",
    "        nodes_w_degree.groupby([\"AGE\", \"gender\"]).agg({\"degree\": \"mean\"}).reset_index()\n",
    "    )\n",
    "    plot_df[\"gender\"] = plot_df[\"gender\"].replace({0.0: \"woman\", 1.0: \"man\"})\n",
    "    sns.lineplot(data=plot_df, x=\"AGE\", y=\"degree\", hue=\"gender\")"
   ]
  },
  {
   "cell_type": "code",
   "execution_count": 13,
   "id": "5160a2df",
   "metadata": {},
   "outputs": [],
   "source": [
    "def plot_node_average_neighbor_degree_by_gender(nodes, G):\n",
    "    \"\"\"Plot the average of node average_neighbor_degree across age and gender\"\"\"\n",
    "    nodes_w_average_neighbor_degree = nodes.set_index(\"user_id\").merge(\n",
    "        pd.Series(dict(nx.average_neighbor_degree(G))).to_frame(),\n",
    "        how=\"left\",\n",
    "        left_index=True,\n",
    "        right_index=True,\n",
    "    )\n",
    "    nodes_w_average_neighbor_degree = nodes_w_average_neighbor_degree.rename({0: \"average_neighbor_degree\"}, axis=1)\n",
    "    plot_df = (\n",
    "        nodes_w_average_neighbor_degree.groupby([\"AGE\", \"gender\"]).agg({\"average_neighbor_degree\": \"mean\"}).reset_index()\n",
    "    )\n",
    "    plot_df[\"gender\"] = plot_df[\"gender\"].replace({0.0: \"woman\", 1.0: \"man\"})\n",
    "    sns.lineplot(data=plot_df, x=\"AGE\", y=\"average_neighbor_degree\", hue=\"gender\")"
   ]
  },
  {
   "cell_type": "code",
   "execution_count": 14,
   "id": "a9595940",
   "metadata": {},
   "outputs": [],
   "source": [
    "def plot_node_clustering_by_gender(nodes, G):\n",
    "    \"\"\"Plot the average of node clustering across age and gender\"\"\"\n",
    "    nodes_w_clustering = nodes.set_index(\"user_id\").merge(\n",
    "        pd.Series(dict(nx.clustering(G))).to_frame(),\n",
    "        how=\"left\",\n",
    "        left_index=True,\n",
    "        right_index=True,\n",
    "    )\n",
    "    nodes_w_clustering = nodes_w_clustering.rename({0: \"clustering\"}, axis=1)\n",
    "    plot_df = (\n",
    "        nodes_w_clustering.groupby([\"AGE\", \"gender\"]).agg({\"clustering\": \"mean\"}).reset_index()\n",
    "    )\n",
    "    plot_df[\"gender\"] = plot_df[\"gender\"].replace({0.0: \"woman\", 1.0: \"man\"})\n",
    "    sns.lineplot(data=plot_df, x=\"AGE\", y=\"clustering\", hue=\"gender\")"
   ]
  },
  {
   "cell_type": "code",
   "execution_count": 15,
   "id": "045900d6",
   "metadata": {},
   "outputs": [],
   "source": [
    "def plot_age_relations_heatmap(edges):\n",
    "    \"\"\"Plot a heatmap that represents the distribution of edges\"\"\"\n",
    "    plot_df = edges.groupby([\"gender_x\", \"gender_y\", \"AGE_x\", \"AGE_y\"]).agg(\n",
    "        {\"smaller_id\": \"count\"}\n",
    "    )\n",
    "    plot_df_w_w = plot_df.loc[(0, 0)].reset_index()\n",
    "    plot_df_heatmap = plot_df_w_w.pivot_table(\n",
    "        index=\"AGE_x\", columns=\"AGE_y\", values=\"smaller_id\"\n",
    "    ).fillna(0)\n",
    "    plot_df_heatmap_logged = np.log(plot_df_heatmap + 1)\n",
    "    sns.heatmap(plot_df_heatmap_logged)"
   ]
  },
  {
   "cell_type": "code",
   "execution_count": 16,
   "id": "ab0046e5",
   "metadata": {},
   "outputs": [],
   "source": [
    "def plot_age_relations_heatmapv2(edges):\n",
    "    \"\"\"Plot a heatmap that represents the distribution of edges\"\"\"\n",
    "    plot_df = edges.groupby([\"gender_x\", \"gender_y\", \"AGE_x\", \"AGE_y\"]).agg(\n",
    "        {\"smaller_id\": \"count\"}\n",
    "    )\n",
    "    plot_df_w_w = plot_df.reset_index()\n",
    "    plot_df_heatmap = plot_df_w_w.pivot_table(\n",
    "        index=\"AGE_x\", columns=\"AGE_y\", values=\"smaller_id\"\n",
    "    ).fillna(0)\n",
    "    plot_df_heatmap_logged = np.log(plot_df_heatmap + 1)\n",
    "    sns.heatmap(plot_df_heatmap_logged)"
   ]
  },
  {
   "cell_type": "code",
   "execution_count": 112,
   "id": "96b064ae",
   "metadata": {},
   "outputs": [],
   "source": [
    "def predictor_neighbor(node_number):\n",
    "    \n",
    "    neighbor_nodes = set()\n",
    "    \n",
    "    for n in network.neighbors(node_number):\n",
    "        neighbor_nodes.add(n)\n",
    "        \n",
    "    m = 0\n",
    "    f = 0\n",
    "    \n",
    "    for i in neighbor_nodes:\n",
    "        if pd.notnull(s_profiles.loc[i][\"gender\"]):\n",
    "            if s_profiles.loc[i][\"gender\"]==0:\n",
    "                f+=1\n",
    "            else:\n",
    "                m+=1\n",
    "    if (m+f)==0:\n",
    "        prediction = \"NA\"\n",
    "    else:\n",
    "        prediction = round(m/(m+f))\n",
    "\n",
    "    return(prediction)"
   ]
  },
  {
   "cell_type": "code",
   "execution_count": 18,
   "id": "3befb107",
   "metadata": {},
   "outputs": [],
   "source": [
    "def genderfilter(genders):\n",
    "    if genders==\"FF\":\n",
    "        filtered_df = edges_with_features[(edges_with_features['gender_x']== 0) &\n",
    "                                              (edges_with_features['gender_y']== 0)]\n",
    "    if genders==\"FM\" or genders==\"MF\":\n",
    "        filtered_df = edges_with_features[(edges_with_features['gender_x'] !=\n",
    "                                              edges_with_features['gender_y']) & \n",
    "                                              (pd.notnull(edges_with_features['gender_x'])) & \n",
    "                                              (pd.notnull(edges_with_features['gender_y']))]\n",
    "    if genders==\"MM\":\n",
    "        filtered_df = edges_with_features[(edges_with_features['gender_x']== 1) &\n",
    "                                              (edges_with_features['gender_y']== 1)]\n",
    "    return(filtered_df)"
   ]
  },
  {
   "cell_type": "code",
   "execution_count": 19,
   "id": "c63509ac",
   "metadata": {},
   "outputs": [],
   "source": [
    "def plot_age_relations_heatmap_genderdiff(edges):\n",
    "    plot_df = edges.groupby([\"gender_x\", \"gender_y\", \"AGE_x\", \"AGE_y\", \"type\"]).agg(\n",
    "                {\"smaller_id\": \"count\"})\n",
    "\n",
    "    plot_df.reset_index(level=\"type\", inplace=True)\n",
    "    plot_df.reset_index(level=\"AGE_y\", inplace=True)\n",
    "    \n",
    "    plot_df[\"gender_AGE\"]=plot_df[\"AGE_y\"]*plot_df[\"type\"]\n",
    "    \n",
    "    plot_df_w_w = plot_df.reset_index()\n",
    "    plot_df_heatmap = plot_df_w_w.pivot_table(\n",
    "        index=\"gender_AGE\", columns=\"AGE_x\", values=\"smaller_id\"\n",
    "    ).fillna(0)\n",
    "    plot_df_heatmap_logged = np.log(plot_df_heatmap + 1)\n",
    "    sns.heatmap(plot_df_heatmap_logged)"
   ]
  },
  {
   "cell_type": "code",
   "execution_count": 20,
   "id": "d3e2bb97",
   "metadata": {},
   "outputs": [],
   "source": [
    "def neighbor_age_differences(node_number):\n",
    "\n",
    "    neighbor_nodes = set()\n",
    "    \n",
    "    for n in network.neighbors(node_number):\n",
    "        neighbor_nodes.add(n)\n",
    "\n",
    "    ss_neighbor_age = []\n",
    "    ds_neighbor_age = []\n",
    "    \n",
    "    for k in neighbor_nodes:\n",
    "        if pd.notnull(s_profiles.loc[node_number][\"gender\"]) and pd.notnull(s_profiles.loc[k][\"gender\"]):\n",
    "            \n",
    "            if s_profiles.loc[node_number][\"gender\"]==s_profiles.loc[k][\"gender\"]:\n",
    "                ss_neighbor_age.append(s_profiles.loc[k][\"AGE\"])\n",
    "            else:\n",
    "                ds_neighbor_age.append(s_profiles.loc[k][\"AGE\"])\n",
    "    \n",
    "    ss_neighbor_age = abs(ss_neighbor_age-s_profiles.loc[node_number][\"AGE\"])\n",
    "    ds_neighbor_age = abs(ds_neighbor_age-s_profiles.loc[node_number][\"AGE\"])\n",
    "    \n",
    "    sl5,sl10,sl20=0,0,0\n",
    "    dl5,dl10,dl20=0,0,0\n",
    "    \n",
    "    for y in ss_neighbor_age:\n",
    "        if y<5:\n",
    "            sl5+=1\n",
    "        if y>=5 and y<10:\n",
    "            sl10+=1\n",
    "        if y>=10 and y<20:\n",
    "            sl20+=1\n",
    "            \n",
    "    for x in ds_neighbor_age:\n",
    "        if x<5:\n",
    "            dl5+=1\n",
    "        if x>=5 and x<10:\n",
    "            dl10+=1\n",
    "        if x>=10 and x<20:\n",
    "            dl20+=1\n",
    "                \n",
    "    portion=np.array([sl5,sl10,sl20,dl5,dl10,dl20])/(sl5+sl10+sl20+dl5+dl10+dl20)\n",
    "\n",
    "    return(portion)"
   ]
  },
  {
   "cell_type": "code",
   "execution_count": 21,
   "id": "1639f4c9",
   "metadata": {},
   "outputs": [
    {
     "data": {
      "text/plain": [
       "'def neighbor_age_differences(node_number):\\n\\n    neighbor_nodes = set()\\n    \\n    for n in network.neighbors(node_number):\\n        neighbor_nodes.add(n)\\n\\n    neighbor_age = []\\n    \\n    for i in neighbor_nodes:\\n        neighbor_age.append(s_profiles.loc[i][\"AGE\"])\\n    \\n    neighbor_age = abs(neighbor_age-s_profiles.loc[node_number][\"AGE\"])\\n    \\n    l5,l10,l20=0,0,0\\n    \\n    for y in neighbor_age:\\n        if pd.notnull(y):\\n            if y<5:\\n                l5+=1\\n            if y>=5 and y<10:\\n                l10+=1\\n            if y>=10 and y<20:\\n                l20+=1\\n                \\n    portion=np.array([l5,l10,l20])/(l5+l10+l20)\\n\\n    return(portion)'"
      ]
     },
     "execution_count": 21,
     "metadata": {},
     "output_type": "execute_result"
    }
   ],
   "source": [
    "'''def neighbor_age_differences(node_number):\n",
    "\n",
    "    neighbor_nodes = set()\n",
    "    \n",
    "    for n in network.neighbors(node_number):\n",
    "        neighbor_nodes.add(n)\n",
    "\n",
    "    neighbor_age = []\n",
    "    \n",
    "    for i in neighbor_nodes:\n",
    "        neighbor_age.append(s_profiles.loc[i][\"AGE\"])\n",
    "    \n",
    "    neighbor_age = abs(neighbor_age-s_profiles.loc[node_number][\"AGE\"])\n",
    "    \n",
    "    l5,l10,l20=0,0,0\n",
    "    \n",
    "    for y in neighbor_age:\n",
    "        if pd.notnull(y):\n",
    "            if y<5:\n",
    "                l5+=1\n",
    "            if y>=5 and y<10:\n",
    "                l10+=1\n",
    "            if y>=10 and y<20:\n",
    "                l20+=1\n",
    "                \n",
    "    portion=np.array([l5,l10,l20])/(l5+l10+l20)\n",
    "\n",
    "    return(portion)'''"
   ]
  },
  {
   "cell_type": "code",
   "execution_count": 132,
   "id": "aa74c584",
   "metadata": {},
   "outputs": [
    {
     "name": "stdout",
     "output_type": "stream",
     "text": [
      "loading profiles\n",
      "loading edges\n",
      "1    2642113\n",
      "2    1992414\n",
      "Name: source, dtype: int64\n",
      "Selected profiles: 695406\n",
      "Nodes with edges: 434590\n",
      "loading profiles\n",
      "loading edges\n",
      "1    2642113\n",
      "2    1992414\n",
      "Name: source, dtype: int64\n",
      "Selected profiles: 695406\n",
      "Nodes with edges: 434590\n"
     ]
    }
   ],
   "source": [
    "s_profiles,s_edges=load_and_select_profiles_and_edges()\n",
    "full_profiles,full_edges=load_and_select_profiles_and_edges(\"Y\")"
   ]
  },
  {
   "cell_type": "code",
   "execution_count": 145,
   "id": "be2764c4",
   "metadata": {},
   "outputs": [
    {
     "data": {
      "text/html": [
       "<div>\n",
       "<style scoped>\n",
       "    .dataframe tbody tr th:only-of-type {\n",
       "        vertical-align: middle;\n",
       "    }\n",
       "\n",
       "    .dataframe tbody tr th {\n",
       "        vertical-align: top;\n",
       "    }\n",
       "\n",
       "    .dataframe thead th {\n",
       "        text-align: right;\n",
       "    }\n",
       "</style>\n",
       "<table border=\"1\" class=\"dataframe\">\n",
       "  <thead>\n",
       "    <tr style=\"text-align: right;\">\n",
       "      <th></th>\n",
       "      <th>user_id</th>\n",
       "      <th>public</th>\n",
       "      <th>gender</th>\n",
       "      <th>region</th>\n",
       "      <th>AGE</th>\n",
       "    </tr>\n",
       "    <tr>\n",
       "      <th>user_id</th>\n",
       "      <th></th>\n",
       "      <th></th>\n",
       "      <th></th>\n",
       "      <th></th>\n",
       "      <th></th>\n",
       "    </tr>\n",
       "  </thead>\n",
       "  <tbody>\n",
       "    <tr>\n",
       "      <th>1</th>\n",
       "      <td>1</td>\n",
       "      <td>1</td>\n",
       "      <td>1.0</td>\n",
       "      <td>zilinsky kraj, zilina</td>\n",
       "      <td>26.0</td>\n",
       "    </tr>\n",
       "    <tr>\n",
       "      <th>4</th>\n",
       "      <td>4</td>\n",
       "      <td>1</td>\n",
       "      <td>0.0</td>\n",
       "      <td>banskobystricky kraj, brezno</td>\n",
       "      <td>26.0</td>\n",
       "    </tr>\n",
       "    <tr>\n",
       "      <th>17</th>\n",
       "      <td>17</td>\n",
       "      <td>1</td>\n",
       "      <td>0.0</td>\n",
       "      <td>zilinsky kraj, martin</td>\n",
       "      <td>27.0</td>\n",
       "    </tr>\n",
       "    <tr>\n",
       "      <th>5</th>\n",
       "      <td>5</td>\n",
       "      <td>1</td>\n",
       "      <td>1.0</td>\n",
       "      <td>zilinsky kraj, zilina</td>\n",
       "      <td>26.0</td>\n",
       "    </tr>\n",
       "    <tr>\n",
       "      <th>18</th>\n",
       "      <td>18</td>\n",
       "      <td>1</td>\n",
       "      <td>1.0</td>\n",
       "      <td>zilinsky kraj, kysucke nove mesto</td>\n",
       "      <td>18.0</td>\n",
       "    </tr>\n",
       "    <tr>\n",
       "      <th>31</th>\n",
       "      <td>31</td>\n",
       "      <td>1</td>\n",
       "      <td>1.0</td>\n",
       "      <td>zilinsky kraj, kysucke nove mesto</td>\n",
       "      <td>24.0</td>\n",
       "    </tr>\n",
       "    <tr>\n",
       "      <th>19</th>\n",
       "      <td>19</td>\n",
       "      <td>1</td>\n",
       "      <td>1.0</td>\n",
       "      <td>zilinsky kraj, kysucke nove mesto</td>\n",
       "      <td>21.0</td>\n",
       "    </tr>\n",
       "    <tr>\n",
       "      <th>32</th>\n",
       "      <td>32</td>\n",
       "      <td>1</td>\n",
       "      <td>1.0</td>\n",
       "      <td>zilinsky kraj, kysucke nove mesto</td>\n",
       "      <td>21.0</td>\n",
       "    </tr>\n",
       "    <tr>\n",
       "      <th>7</th>\n",
       "      <td>7</td>\n",
       "      <td>1</td>\n",
       "      <td>0.0</td>\n",
       "      <td>zilinsky kraj, martin</td>\n",
       "      <td>22.0</td>\n",
       "    </tr>\n",
       "    <tr>\n",
       "      <th>10</th>\n",
       "      <td>10</td>\n",
       "      <td>1</td>\n",
       "      <td>0.0</td>\n",
       "      <td>zilinsky kraj, cadca</td>\n",
       "      <td>22.0</td>\n",
       "    </tr>\n",
       "    <tr>\n",
       "      <th>34</th>\n",
       "      <td>34</td>\n",
       "      <td>1</td>\n",
       "      <td>1.0</td>\n",
       "      <td>zilinsky kraj, zilina</td>\n",
       "      <td>23.0</td>\n",
       "    </tr>\n",
       "    <tr>\n",
       "      <th>11</th>\n",
       "      <td>11</td>\n",
       "      <td>1</td>\n",
       "      <td>0.0</td>\n",
       "      <td>banskobystricky kraj, brezno</td>\n",
       "      <td>22.0</td>\n",
       "    </tr>\n",
       "    <tr>\n",
       "      <th>47</th>\n",
       "      <td>47</td>\n",
       "      <td>1</td>\n",
       "      <td>0.0</td>\n",
       "      <td>zilinsky kraj, kysucke nove mesto</td>\n",
       "      <td>19.0</td>\n",
       "    </tr>\n",
       "    <tr>\n",
       "      <th>12</th>\n",
       "      <td>12</td>\n",
       "      <td>1</td>\n",
       "      <td>1.0</td>\n",
       "      <td>banskobystricky kraj, brezno</td>\n",
       "      <td>26.0</td>\n",
       "    </tr>\n",
       "    <tr>\n",
       "      <th>36</th>\n",
       "      <td>36</td>\n",
       "      <td>1</td>\n",
       "      <td>1.0</td>\n",
       "      <td>zilinsky kraj, kysucke nove mesto</td>\n",
       "      <td>28.0</td>\n",
       "    </tr>\n",
       "    <tr>\n",
       "      <th>61</th>\n",
       "      <td>61</td>\n",
       "      <td>1</td>\n",
       "      <td>0.0</td>\n",
       "      <td>zilinsky kraj, zilina</td>\n",
       "      <td>23.0</td>\n",
       "    </tr>\n",
       "    <tr>\n",
       "      <th>24</th>\n",
       "      <td>24</td>\n",
       "      <td>1</td>\n",
       "      <td>1.0</td>\n",
       "      <td>zilinsky kraj, kysucke nove mesto</td>\n",
       "      <td>26.0</td>\n",
       "    </tr>\n",
       "    <tr>\n",
       "      <th>62</th>\n",
       "      <td>62</td>\n",
       "      <td>1</td>\n",
       "      <td>1.0</td>\n",
       "      <td>zilinsky kraj, kysucke nove mesto</td>\n",
       "      <td>22.0</td>\n",
       "    </tr>\n",
       "    <tr>\n",
       "      <th>25</th>\n",
       "      <td>25</td>\n",
       "      <td>1</td>\n",
       "      <td>0.0</td>\n",
       "      <td>zilinsky kraj, kysucke nove mesto</td>\n",
       "      <td>20.0</td>\n",
       "    </tr>\n",
       "    <tr>\n",
       "      <th>27</th>\n",
       "      <td>27</td>\n",
       "      <td>1</td>\n",
       "      <td>1.0</td>\n",
       "      <td>zilinsky kraj, zilina</td>\n",
       "      <td>23.0</td>\n",
       "    </tr>\n",
       "    <tr>\n",
       "      <th>41</th>\n",
       "      <td>41</td>\n",
       "      <td>1</td>\n",
       "      <td>1.0</td>\n",
       "      <td>zilinsky kraj, zilina</td>\n",
       "      <td>16.0</td>\n",
       "    </tr>\n",
       "    <tr>\n",
       "      <th>28</th>\n",
       "      <td>28</td>\n",
       "      <td>1</td>\n",
       "      <td>1.0</td>\n",
       "      <td>zilinsky kraj, cadca</td>\n",
       "      <td>19.0</td>\n",
       "    </tr>\n",
       "    <tr>\n",
       "      <th>42</th>\n",
       "      <td>42</td>\n",
       "      <td>1</td>\n",
       "      <td>1.0</td>\n",
       "      <td>zilinsky kraj, zilina</td>\n",
       "      <td>22.0</td>\n",
       "    </tr>\n",
       "    <tr>\n",
       "      <th>29</th>\n",
       "      <td>29</td>\n",
       "      <td>1</td>\n",
       "      <td>0.0</td>\n",
       "      <td>zilinsky kraj, kysucke nove mesto</td>\n",
       "      <td>19.0</td>\n",
       "    </tr>\n",
       "    <tr>\n",
       "      <th>91</th>\n",
       "      <td>91</td>\n",
       "      <td>1</td>\n",
       "      <td>1.0</td>\n",
       "      <td>zilinsky kraj, zilina</td>\n",
       "      <td>23.0</td>\n",
       "    </tr>\n",
       "    <tr>\n",
       "      <th>67</th>\n",
       "      <td>67</td>\n",
       "      <td>1</td>\n",
       "      <td>1.0</td>\n",
       "      <td>zilinsky kraj, zilina</td>\n",
       "      <td>23.0</td>\n",
       "    </tr>\n",
       "    <tr>\n",
       "      <th>43</th>\n",
       "      <td>43</td>\n",
       "      <td>1</td>\n",
       "      <td>1.0</td>\n",
       "      <td>zilinsky kraj, kysucke nove mesto</td>\n",
       "      <td>19.0</td>\n",
       "    </tr>\n",
       "    <tr>\n",
       "      <th>30</th>\n",
       "      <td>30</td>\n",
       "      <td>1</td>\n",
       "      <td>1.0</td>\n",
       "      <td>zilinsky kraj, kysucke nove mesto</td>\n",
       "      <td>21.0</td>\n",
       "    </tr>\n",
       "    <tr>\n",
       "      <th>79</th>\n",
       "      <td>79</td>\n",
       "      <td>1</td>\n",
       "      <td>1.0</td>\n",
       "      <td>zilinsky kraj, kysucke nove mesto</td>\n",
       "      <td>23.0</td>\n",
       "    </tr>\n",
       "    <tr>\n",
       "      <th>92</th>\n",
       "      <td>92</td>\n",
       "      <td>1</td>\n",
       "      <td>0.0</td>\n",
       "      <td>zilinsky kraj, kysucke nove mesto</td>\n",
       "      <td>22.0</td>\n",
       "    </tr>\n",
       "    <tr>\n",
       "      <th>80</th>\n",
       "      <td>80</td>\n",
       "      <td>1</td>\n",
       "      <td>0.0</td>\n",
       "      <td>zahranicie, zahranicie - ostatne</td>\n",
       "      <td>24.0</td>\n",
       "    </tr>\n",
       "    <tr>\n",
       "      <th>93</th>\n",
       "      <td>93</td>\n",
       "      <td>1</td>\n",
       "      <td>1.0</td>\n",
       "      <td>zilinsky kraj, kysucke nove mesto</td>\n",
       "      <td>21.0</td>\n",
       "    </tr>\n",
       "    <tr>\n",
       "      <th>106</th>\n",
       "      <td>106</td>\n",
       "      <td>1</td>\n",
       "      <td>1.0</td>\n",
       "      <td>zilinsky kraj, kysucke nove mesto</td>\n",
       "      <td>22.0</td>\n",
       "    </tr>\n",
       "    <tr>\n",
       "      <th>94</th>\n",
       "      <td>94</td>\n",
       "      <td>1</td>\n",
       "      <td>1.0</td>\n",
       "      <td>zahranicie, zahranicie - nemecko</td>\n",
       "      <td>20.0</td>\n",
       "    </tr>\n",
       "    <tr>\n",
       "      <th>95</th>\n",
       "      <td>95</td>\n",
       "      <td>1</td>\n",
       "      <td>1.0</td>\n",
       "      <td>zilinsky kraj, zilina</td>\n",
       "      <td>23.0</td>\n",
       "    </tr>\n",
       "    <tr>\n",
       "      <th>96</th>\n",
       "      <td>96</td>\n",
       "      <td>1</td>\n",
       "      <td>0.0</td>\n",
       "      <td>zilinsky kraj, kysucke nove mesto</td>\n",
       "      <td>21.0</td>\n",
       "    </tr>\n",
       "    <tr>\n",
       "      <th>107</th>\n",
       "      <td>107</td>\n",
       "      <td>1</td>\n",
       "      <td>1.0</td>\n",
       "      <td>zilinsky kraj, kysucke nove mesto</td>\n",
       "      <td>24.0</td>\n",
       "    </tr>\n",
       "    <tr>\n",
       "      <th>83</th>\n",
       "      <td>83</td>\n",
       "      <td>1</td>\n",
       "      <td>0.0</td>\n",
       "      <td>zilinsky kraj, kysucke nove mesto</td>\n",
       "      <td>20.0</td>\n",
       "    </tr>\n",
       "    <tr>\n",
       "      <th>99</th>\n",
       "      <td>99</td>\n",
       "      <td>1</td>\n",
       "      <td>0.0</td>\n",
       "      <td>zilinsky kraj, kysucke nove mesto</td>\n",
       "      <td>18.0</td>\n",
       "    </tr>\n",
       "    <tr>\n",
       "      <th>85</th>\n",
       "      <td>85</td>\n",
       "      <td>1</td>\n",
       "      <td>0.0</td>\n",
       "      <td>zilinsky kraj, kysucke nove mesto</td>\n",
       "      <td>21.0</td>\n",
       "    </tr>\n",
       "  </tbody>\n",
       "</table>\n",
       "</div>"
      ],
      "text/plain": [
       "         user_id  public  gender                             region   AGE\n",
       "user_id                                                                  \n",
       "1              1       1     1.0              zilinsky kraj, zilina  26.0\n",
       "4              4       1     0.0       banskobystricky kraj, brezno  26.0\n",
       "17            17       1     0.0              zilinsky kraj, martin  27.0\n",
       "5              5       1     1.0              zilinsky kraj, zilina  26.0\n",
       "18            18       1     1.0  zilinsky kraj, kysucke nove mesto  18.0\n",
       "31            31       1     1.0  zilinsky kraj, kysucke nove mesto  24.0\n",
       "19            19       1     1.0  zilinsky kraj, kysucke nove mesto  21.0\n",
       "32            32       1     1.0  zilinsky kraj, kysucke nove mesto  21.0\n",
       "7              7       1     0.0              zilinsky kraj, martin  22.0\n",
       "10            10       1     0.0               zilinsky kraj, cadca  22.0\n",
       "34            34       1     1.0              zilinsky kraj, zilina  23.0\n",
       "11            11       1     0.0       banskobystricky kraj, brezno  22.0\n",
       "47            47       1     0.0  zilinsky kraj, kysucke nove mesto  19.0\n",
       "12            12       1     1.0       banskobystricky kraj, brezno  26.0\n",
       "36            36       1     1.0  zilinsky kraj, kysucke nove mesto  28.0\n",
       "61            61       1     0.0              zilinsky kraj, zilina  23.0\n",
       "24            24       1     1.0  zilinsky kraj, kysucke nove mesto  26.0\n",
       "62            62       1     1.0  zilinsky kraj, kysucke nove mesto  22.0\n",
       "25            25       1     0.0  zilinsky kraj, kysucke nove mesto  20.0\n",
       "27            27       1     1.0              zilinsky kraj, zilina  23.0\n",
       "41            41       1     1.0              zilinsky kraj, zilina  16.0\n",
       "28            28       1     1.0               zilinsky kraj, cadca  19.0\n",
       "42            42       1     1.0              zilinsky kraj, zilina  22.0\n",
       "29            29       1     0.0  zilinsky kraj, kysucke nove mesto  19.0\n",
       "91            91       1     1.0              zilinsky kraj, zilina  23.0\n",
       "67            67       1     1.0              zilinsky kraj, zilina  23.0\n",
       "43            43       1     1.0  zilinsky kraj, kysucke nove mesto  19.0\n",
       "30            30       1     1.0  zilinsky kraj, kysucke nove mesto  21.0\n",
       "79            79       1     1.0  zilinsky kraj, kysucke nove mesto  23.0\n",
       "92            92       1     0.0  zilinsky kraj, kysucke nove mesto  22.0\n",
       "80            80       1     0.0   zahranicie, zahranicie - ostatne  24.0\n",
       "93            93       1     1.0  zilinsky kraj, kysucke nove mesto  21.0\n",
       "106          106       1     1.0  zilinsky kraj, kysucke nove mesto  22.0\n",
       "94            94       1     1.0   zahranicie, zahranicie - nemecko  20.0\n",
       "95            95       1     1.0              zilinsky kraj, zilina  23.0\n",
       "96            96       1     0.0  zilinsky kraj, kysucke nove mesto  21.0\n",
       "107          107       1     1.0  zilinsky kraj, kysucke nove mesto  24.0\n",
       "83            83       1     0.0  zilinsky kraj, kysucke nove mesto  20.0\n",
       "99            99       1     0.0  zilinsky kraj, kysucke nove mesto  18.0\n",
       "85            85       1     0.0  zilinsky kraj, kysucke nove mesto  21.0"
      ]
     },
     "execution_count": 145,
     "metadata": {},
     "output_type": "execute_result"
    }
   ],
   "source": [
    "s_profiles.set_index(\"user_id\",drop=False,inplace=True)\n",
    "full_profiles.set_index(\"user_id\",drop=False,inplace=True)"
   ]
  },
  {
   "cell_type": "code",
   "execution_count": 134,
   "id": "2bff4bfa",
   "metadata": {},
   "outputs": [],
   "source": [
    "network = create_graph_from_nodes_and_edges(s_profiles,s_edges)"
   ]
  },
  {
   "cell_type": "code",
   "execution_count": 135,
   "id": "5e079e9d",
   "metadata": {},
   "outputs": [
    {
     "data": {
      "image/png": "[encoded data removed]",
      "text/plain": [
       "<Figure size 432x288 with 1 Axes>"
      ]
     },
     "metadata": {
      "needs_background": "light"
     },
     "output_type": "display_data"
    }
   ],
   "source": [
    "plot_degree_distribution(network)"
   ]
  },
  {
   "cell_type": "code",
   "execution_count": 136,
   "id": "9b3cce59",
   "metadata": {},
   "outputs": [
    {
     "data": {
      "image/png": "[encoded data removed]",
      "text/plain": [
       "<Figure size 432x288 with 1 Axes>"
      ]
     },
     "metadata": {
      "needs_background": "light"
     },
     "output_type": "display_data"
    }
   ],
   "source": [
    "plot_age_distribution_by_gender(s_profiles)"
   ]
  },
  {
   "cell_type": "code",
   "execution_count": 137,
   "id": "ccf5d300",
   "metadata": {},
   "outputs": [],
   "source": [
    "test_set_id = s_profiles[s_profiles.TRAIN_TEST=='TEST'][\"user_id\"].values.tolist()"
   ]
  },
  {
   "cell_type": "code",
   "execution_count": 138,
   "id": "03c02211",
   "metadata": {},
   "outputs": [],
   "source": [
    "def triangles(node):\n",
    "    neighbors1 = set(network.neighbors(node))\n",
    "    neighbors2 = set(network.neighbors(node))\n",
    "    \n",
    "    triangles=set()\n",
    "    \n",
    "    for neighbors1, neighbors2 in combinations(network.neighbors(node), 2):\n",
    "        if network.has_edge(neighbors1, neighbors2):\n",
    "            triangles.add((neighbors1,neighbors2))\n",
    "    \n",
    "    return(triangles)"
   ]
  },
  {
   "cell_type": "code",
   "execution_count": 139,
   "id": "e7a90486",
   "metadata": {},
   "outputs": [],
   "source": [
    "def predictor_triangles(node):\n",
    "    \n",
    "    if nx.triangles(network, node)!=0:\n",
    "        \n",
    "        prediction=[]\n",
    "        for triangle in triangles(node):\n",
    "            \n",
    "            m=0\n",
    "            f=0\n",
    "            \n",
    "            for neighbor in triangle:\n",
    "                if pd.notnull(s_profiles.loc[neighbor][\"gender\"]):\n",
    "                    if s_profiles.loc[neighbor][\"gender\"]==0:\n",
    "                        f+=1\n",
    "                    else:\n",
    "                        m+=1\n",
    "                prediction.append(m/2)\n",
    "    \n",
    "        prediction=round(sum(prediction)/len(prediction))\n",
    "        \n",
    "    else:\n",
    "        prediction=predictor_neighbor(node)\n",
    "    \n",
    "    return(prediction)"
   ]
  },
  {
   "cell_type": "code",
   "execution_count": 180,
   "id": "abfa238d",
   "metadata": {},
   "outputs": [],
   "source": [
    "prediction = pd.DataFrame(test_set_id,columns=['user_id'])\n",
    "prediction.set_index(\"user_id\",drop=False,inplace=True)\n",
    "\n",
    "original=full_profiles[\"gender\"]\n",
    "\n",
    "prediction[\"original\"]=original"
   ]
  },
  {
   "cell_type": "code",
   "execution_count": 181,
   "id": "e9218e4c",
   "metadata": {},
   "outputs": [
    {
     "data": {
      "text/html": [
       "<div>\n",
       "<style scoped>\n",
       "    .dataframe tbody tr th:only-of-type {\n",
       "        vertical-align: middle;\n",
       "    }\n",
       "\n",
       "    .dataframe tbody tr th {\n",
       "        vertical-align: top;\n",
       "    }\n",
       "\n",
       "    .dataframe thead th {\n",
       "        text-align: right;\n",
       "    }\n",
       "</style>\n",
       "<table border=\"1\" class=\"dataframe\">\n",
       "  <thead>\n",
       "    <tr style=\"text-align: right;\">\n",
       "      <th></th>\n",
       "      <th>user_id</th>\n",
       "      <th>original</th>\n",
       "      <th>predicted_gender_neighbor</th>\n",
       "      <th>predicted_gender_triangle</th>\n",
       "    </tr>\n",
       "    <tr>\n",
       "      <th>user_id</th>\n",
       "      <th></th>\n",
       "      <th></th>\n",
       "      <th></th>\n",
       "      <th></th>\n",
       "    </tr>\n",
       "  </thead>\n",
       "  <tbody>\n",
       "    <tr>\n",
       "      <th>107</th>\n",
       "      <td>107</td>\n",
       "      <td>1.0</td>\n",
       "      <td>0</td>\n",
       "      <td>0</td>\n",
       "    </tr>\n",
       "    <tr>\n",
       "      <th>100</th>\n",
       "      <td>100</td>\n",
       "      <td>0.0</td>\n",
       "      <td>0</td>\n",
       "      <td>0</td>\n",
       "    </tr>\n",
       "    <tr>\n",
       "      <th>59</th>\n",
       "      <td>59</td>\n",
       "      <td>1.0</td>\n",
       "      <td>0</td>\n",
       "      <td>0</td>\n",
       "    </tr>\n",
       "    <tr>\n",
       "      <th>146</th>\n",
       "      <td>146</td>\n",
       "      <td>0.0</td>\n",
       "      <td>1</td>\n",
       "      <td>0</td>\n",
       "    </tr>\n",
       "    <tr>\n",
       "      <th>73</th>\n",
       "      <td>73</td>\n",
       "      <td>0.0</td>\n",
       "      <td>1</td>\n",
       "      <td>0</td>\n",
       "    </tr>\n",
       "    <tr>\n",
       "      <th>...</th>\n",
       "      <td>...</td>\n",
       "      <td>...</td>\n",
       "      <td>...</td>\n",
       "      <td>...</td>\n",
       "    </tr>\n",
       "    <tr>\n",
       "      <th>1632112</th>\n",
       "      <td>1632112</td>\n",
       "      <td>0.0</td>\n",
       "      <td>0</td>\n",
       "      <td>0</td>\n",
       "    </tr>\n",
       "    <tr>\n",
       "      <th>1632297</th>\n",
       "      <td>1632297</td>\n",
       "      <td>0.0</td>\n",
       "      <td>1</td>\n",
       "      <td>1</td>\n",
       "    </tr>\n",
       "    <tr>\n",
       "      <th>1632506</th>\n",
       "      <td>1632506</td>\n",
       "      <td>1.0</td>\n",
       "      <td>0</td>\n",
       "      <td>0</td>\n",
       "    </tr>\n",
       "    <tr>\n",
       "      <th>1632512</th>\n",
       "      <td>1632512</td>\n",
       "      <td>0.0</td>\n",
       "      <td>0</td>\n",
       "      <td>0</td>\n",
       "    </tr>\n",
       "    <tr>\n",
       "      <th>1632779</th>\n",
       "      <td>1632779</td>\n",
       "      <td>1.0</td>\n",
       "      <td>0</td>\n",
       "      <td>0</td>\n",
       "    </tr>\n",
       "  </tbody>\n",
       "</table>\n",
       "<p>40000 rows × 4 columns</p>\n",
       "</div>"
      ],
      "text/plain": [
       "         user_id  original predicted_gender_neighbor predicted_gender_triangle\n",
       "user_id                                                                       \n",
       "107          107       1.0                         0                         0\n",
       "100          100       0.0                         0                         0\n",
       "59            59       1.0                         0                         0\n",
       "146          146       0.0                         1                         0\n",
       "73            73       0.0                         1                         0\n",
       "...          ...       ...                       ...                       ...\n",
       "1632112  1632112       0.0                         0                         0\n",
       "1632297  1632297       0.0                         1                         1\n",
       "1632506  1632506       1.0                         0                         0\n",
       "1632512  1632512       0.0                         0                         0\n",
       "1632779  1632779       1.0                         0                         0\n",
       "\n",
       "[40000 rows x 4 columns]"
      ]
     },
     "execution_count": 181,
     "metadata": {},
     "output_type": "execute_result"
    }
   ],
   "source": [
    "prediction[\"predicted_gender_neighbor\"] = prediction.apply(lambda row: predictor_neighbor(row['user_id']), axis=1 )\n",
    "\n",
    "prediction[\"predicted_gender_triangle\"] = prediction.apply(lambda row: predictor_triangles(row['user_id']), axis=1 )"
   ]
  },
  {
   "cell_type": "code",
   "execution_count": 196,
   "id": "3d715e7c",
   "metadata": {},
   "outputs": [
    {
     "name": "stdout",
     "output_type": "stream",
     "text": [
      "0.489575 0.503175\n"
     ]
    }
   ],
   "source": [
    "neighbor_acc=0\n",
    "triangle_acc=0\n",
    "\n",
    "for i in prediction.iterrows():\n",
    "    \n",
    "    if i[1][\"original\"]==i[1][\"predicted_gender_neighbor\"]:\n",
    "        neighbor_acc+=1\n",
    "    \n",
    "    if i[1][\"original\"]==i[1][\"predicted_gender_triangle\"]:\n",
    "        triangle_acc+=1\n",
    "\n",
    "print(neighbor_acc/len(prediction),triangle_acc/len(prediction))"
   ]
  },
  {
   "cell_type": "code",
   "execution_count": 29,
   "id": "a0b21aff",
   "metadata": {},
   "outputs": [
    {
     "data": {
      "image/png": "[encoded data removed]",
      "text/plain": [
       "<Figure size 432x288 with 1 Axes>"
      ]
     },
     "metadata": {
      "needs_background": "light"
     },
     "output_type": "display_data"
    }
   ],
   "source": [
    "plot_node_degree_by_gender(s_profiles,network)"
   ]
  },
  {
   "cell_type": "code",
   "execution_count": 30,
   "id": "326b89d7",
   "metadata": {},
   "outputs": [
    {
     "data": {
      "image/png": "[encoded data removed]",
      "text/plain": [
       "<Figure size 432x288 with 1 Axes>"
      ]
     },
     "metadata": {
      "needs_background": "light"
     },
     "output_type": "display_data"
    }
   ],
   "source": [
    "plot_node_average_neighbor_degree_by_gender(s_profiles,network)"
   ]
  },
  {
   "cell_type": "code",
   "execution_count": 31,
   "id": "7b7d658a",
   "metadata": {},
   "outputs": [
    {
     "data": {
      "image/png": "[encoded data removed]",
      "text/plain": [
       "<Figure size 432x288 with 1 Axes>"
      ]
     },
     "metadata": {
      "needs_background": "light"
     },
     "output_type": "display_data"
    }
   ],
   "source": [
    "plot_node_clustering_by_gender(s_profiles,network)"
   ]
  },
  {
   "cell_type": "code",
   "execution_count": 32,
   "id": "594a0579",
   "metadata": {},
   "outputs": [],
   "source": [
    "edges_with_features = add_node_features_to_edges(s_profiles,s_edges).dropna()\n",
    "\n",
    "edges_with_features[\"type\"] = edges_with_features.apply(lambda x: 1 if x[\"gender_y\"]==x[\"gender_x\"] else -1, axis=1)"
   ]
  },
  {
   "cell_type": "code",
   "execution_count": 33,
   "id": "0bd777ab",
   "metadata": {},
   "outputs": [],
   "source": [
    "male=pd.concat([genderfilter(\"MF\"),genderfilter(\"MM\")])\n",
    "female=pd.concat([genderfilter(\"FF\"),genderfilter(\"FM\")])"
   ]
  },
  {
   "cell_type": "code",
   "execution_count": 34,
   "id": "643dcdf2",
   "metadata": {},
   "outputs": [
    {
     "data": {
      "image/png": "[encoded data removed]",
      "text/plain": [
       "<Figure size 432x288 with 2 Axes>"
      ]
     },
     "metadata": {
      "needs_background": "light"
     },
     "output_type": "display_data"
    }
   ],
   "source": [
    "plot_age_relations_heatmap_genderdiff(male)"
   ]
  },
  {
   "cell_type": "code",
   "execution_count": 35,
   "id": "0d3cd8d9",
   "metadata": {},
   "outputs": [
    {
     "data": {
      "image/png": "[encoded data removed]",
      "text/plain": [
       "<Figure size 432x288 with 2 Axes>"
      ]
     },
     "metadata": {
      "needs_background": "light"
     },
     "output_type": "display_data"
    }
   ],
   "source": [
    "plot_age_relations_heatmap_genderdiff(female)"
   ]
  },
  {
   "cell_type": "code",
   "execution_count": 36,
   "id": "b05af24b",
   "metadata": {},
   "outputs": [
    {
     "data": {
      "image/png": "[encoded data removed]",
      "text/plain": [
       "<Figure size 432x288 with 2 Axes>"
      ]
     },
     "metadata": {
      "needs_background": "light"
     },
     "output_type": "display_data"
    }
   ],
   "source": [
    "plot_age_relations_heatmap(edges_with_features)"
   ]
  },
  {
   "cell_type": "code",
   "execution_count": 37,
   "id": "83e8773b",
   "metadata": {},
   "outputs": [
    {
     "data": {
      "image/png": "[encoded data removed]",
      "text/plain": [
       "<Figure size 432x288 with 2 Axes>"
      ]
     },
     "metadata": {
      "needs_background": "light"
     },
     "output_type": "display_data"
    }
   ],
   "source": [
    "plot_age_relations_heatmapv2(genderfilter(\"FF\"))"
   ]
  },
  {
   "cell_type": "code",
   "execution_count": 38,
   "id": "3de5a992",
   "metadata": {},
   "outputs": [
    {
     "data": {
      "image/png": "[encoded data removed]",
      "text/plain": [
       "<Figure size 432x288 with 2 Axes>"
      ]
     },
     "metadata": {
      "needs_background": "light"
     },
     "output_type": "display_data"
    }
   ],
   "source": [
    "plot_age_relations_heatmapv2(genderfilter(\"MF\"))"
   ]
  },
  {
   "cell_type": "code",
   "execution_count": 39,
   "id": "dd669741",
   "metadata": {},
   "outputs": [
    {
     "data": {
      "image/png": "[encoded data removed]",
      "text/plain": [
       "<Figure size 432x288 with 2 Axes>"
      ]
     },
     "metadata": {
      "needs_background": "light"
     },
     "output_type": "display_data"
    }
   ],
   "source": [
    "plot_age_relations_heatmapv2(genderfilter(\"MM\"))"
   ]
  },
  {
   "cell_type": "code",
   "execution_count": 40,
   "id": "b3cfc02a",
   "metadata": {},
   "outputs": [],
   "source": [
    "neighbor_age_diff = pd.DataFrame(s_profiles).head(10000)"
   ]
  },
  {
   "cell_type": "code",
   "execution_count": 41,
   "id": "e8609297",
   "metadata": {},
   "outputs": [
    {
     "name": "stderr",
     "output_type": "stream",
     "text": [
      "C:\\Users\\Alex\\AppData\\Local\\Temp/ipykernel_8708/1404810708.py:41: RuntimeWarning: invalid value encountered in true_divide\n",
      "  portion=np.array([sl5,sl10,sl20,dl5,dl10,dl20])/(sl5+sl10+sl20+dl5+dl10+dl20)\n"
     ]
    }
   ],
   "source": [
    "neighbor_age_diff[\"age_diff\"] = neighbor_age_diff.apply(lambda row: neighbor_age_differences(row.name), axis=1 )"
   ]
  },
  {
   "cell_type": "code",
   "execution_count": 42,
   "id": "1bbeca06",
   "metadata": {},
   "outputs": [
    {
     "name": "stdout",
     "output_type": "stream",
     "text": [
      "         user_id  public  gender                               region   AGE  \\\n",
      "user_id                                                                       \n",
      "1              1       1     NaN                zilinsky kraj, zilina   NaN   \n",
      "4              4       1     0.0         banskobystricky kraj, brezno  26.0   \n",
      "17            17       1     0.0                zilinsky kraj, martin  27.0   \n",
      "5              5       1     1.0                zilinsky kraj, zilina  26.0   \n",
      "18            18       1     1.0    zilinsky kraj, kysucke nove mesto  18.0   \n",
      "...          ...     ...     ...                                  ...   ...   \n",
      "25353      25353       1     1.0                zilinsky kraj, zilina  21.0   \n",
      "25285      25285       1     NaN                 zilinsky kraj, rajec   NaN   \n",
      "25260      25260       1     1.0                zilinsky kraj, zilina  25.0   \n",
      "25354      25354       1     1.0                 zilinsky kraj, bytca  20.0   \n",
      "25328      25328       1     1.0  trenciansky kraj, povazska bystrica  20.0   \n",
      "\n",
      "        TRAIN_TEST                                           age_diff  \n",
      "user_id                                                                \n",
      "1             TEST                     [nan, nan, nan, nan, nan, nan]  \n",
      "4            TRAIN                     [nan, nan, nan, nan, nan, nan]  \n",
      "17           TRAIN                   [0.5, 0.25, 0.0, 0.25, 0.0, 0.0]  \n",
      "5            TRAIN  [0.16666666666666666, 0.0, 0.0, 0.5, 0.3333333...  \n",
      "18           TRAIN  [0.4166666666666667, 0.08333333333333333, 0.08...  \n",
      "...            ...                                                ...  \n",
      "25353        TRAIN  [0.6666666666666666, 0.06666666666666667, 0.0,...  \n",
      "25285         TEST                     [nan, nan, nan, nan, nan, nan]  \n",
      "25260        TRAIN                     [0.4, 0.0, 0.0, 0.4, 0.2, 0.0]  \n",
      "25354        TRAIN                     [1.0, 0.0, 0.0, 0.0, 0.0, 0.0]  \n",
      "25328        TRAIN  [0.38461538461538464, 0.07692307692307693, 0.0...  \n",
      "\n",
      "[10000 rows x 7 columns]\n"
     ]
    }
   ],
   "source": [
    "print(neighbor_age_diff)"
   ]
  },
  {
   "cell_type": "code",
   "execution_count": 43,
   "id": "31414eaf",
   "metadata": {},
   "outputs": [],
   "source": [
    "neighbor_age_diff[['SL5','SL10',\"SL20\",'DL5','DL10',\"DL20\"]]=pd.DataFrame(neighbor_age_diff[\"age_diff\"].tolist(), index=neighbor_age_diff.index)"
   ]
  },
  {
   "cell_type": "code",
   "execution_count": 44,
   "id": "01344903",
   "metadata": {},
   "outputs": [
    {
     "name": "stdout",
     "output_type": "stream",
     "text": [
      "         user_id  public  gender                               region   AGE  \\\n",
      "user_id                                                                       \n",
      "1              1       1     NaN                zilinsky kraj, zilina   NaN   \n",
      "4              4       1     0.0         banskobystricky kraj, brezno  26.0   \n",
      "17            17       1     0.0                zilinsky kraj, martin  27.0   \n",
      "5              5       1     1.0                zilinsky kraj, zilina  26.0   \n",
      "18            18       1     1.0    zilinsky kraj, kysucke nove mesto  18.0   \n",
      "...          ...     ...     ...                                  ...   ...   \n",
      "25353      25353       1     1.0                zilinsky kraj, zilina  21.0   \n",
      "25285      25285       1     NaN                 zilinsky kraj, rajec   NaN   \n",
      "25260      25260       1     1.0                zilinsky kraj, zilina  25.0   \n",
      "25354      25354       1     1.0                 zilinsky kraj, bytca  20.0   \n",
      "25328      25328       1     1.0  trenciansky kraj, povazska bystrica  20.0   \n",
      "\n",
      "        TRAIN_TEST                                           age_diff  \\\n",
      "user_id                                                                 \n",
      "1             TEST                     [nan, nan, nan, nan, nan, nan]   \n",
      "4            TRAIN                     [nan, nan, nan, nan, nan, nan]   \n",
      "17           TRAIN                   [0.5, 0.25, 0.0, 0.25, 0.0, 0.0]   \n",
      "5            TRAIN  [0.16666666666666666, 0.0, 0.0, 0.5, 0.3333333...   \n",
      "18           TRAIN  [0.4166666666666667, 0.08333333333333333, 0.08...   \n",
      "...            ...                                                ...   \n",
      "25353        TRAIN  [0.6666666666666666, 0.06666666666666667, 0.0,...   \n",
      "25285         TEST                     [nan, nan, nan, nan, nan, nan]   \n",
      "25260        TRAIN                     [0.4, 0.0, 0.0, 0.4, 0.2, 0.0]   \n",
      "25354        TRAIN                     [1.0, 0.0, 0.0, 0.0, 0.0, 0.0]   \n",
      "25328        TRAIN  [0.38461538461538464, 0.07692307692307693, 0.0...   \n",
      "\n",
      "              SL5      SL10      SL20       DL5      DL10  DL20  \n",
      "user_id                                                          \n",
      "1             NaN       NaN       NaN       NaN       NaN   NaN  \n",
      "4             NaN       NaN       NaN       NaN       NaN   NaN  \n",
      "17       0.500000  0.250000  0.000000  0.250000  0.000000   0.0  \n",
      "5        0.166667  0.000000  0.000000  0.500000  0.333333   0.0  \n",
      "18       0.416667  0.083333  0.083333  0.416667  0.000000   0.0  \n",
      "...           ...       ...       ...       ...       ...   ...  \n",
      "25353    0.666667  0.066667  0.000000  0.266667  0.000000   0.0  \n",
      "25285         NaN       NaN       NaN       NaN       NaN   NaN  \n",
      "25260    0.400000  0.000000  0.000000  0.400000  0.200000   0.0  \n",
      "25354    1.000000  0.000000  0.000000  0.000000  0.000000   0.0  \n",
      "25328    0.384615  0.076923  0.000000  0.538462  0.000000   0.0  \n",
      "\n",
      "[10000 rows x 13 columns]\n"
     ]
    }
   ],
   "source": [
    "print(neighbor_age_diff)"
   ]
  },
  {
   "cell_type": "code",
   "execution_count": 45,
   "id": "3630438a",
   "metadata": {},
   "outputs": [],
   "source": [
    "#g=neighbor_age_diff.groupby([\"AGE\",\"gender\"]).agg({\"L5\": \"mean\",\"L10\": \"mean\",\"L20\": \"mean\"}).reset_index()\n",
    "g=neighbor_age_diff.groupby([\"AGE\"]).agg({\"SL5\": \"mean\",\"SL10\": \"mean\",\"SL20\": \"mean\",\"DL5\": \"mean\",\"DL10\": \"mean\",\"DL20\": \"mean\"}).reset_index()"
   ]
  },
  {
   "cell_type": "code",
   "execution_count": 46,
   "id": "ad35aed4",
   "metadata": {},
   "outputs": [
    {
     "data": {
      "image/png": "[encoded data removed]",
      "text/plain": [
       "<Figure size 432x288 with 1 Axes>"
      ]
     },
     "metadata": {
      "needs_background": "light"
     },
     "output_type": "display_data"
    }
   ],
   "source": [
    "plt.plot(g[\"AGE\"], g[\"SL5\"], label = \"same, L5\")\n",
    "plt.plot(g[\"AGE\"], g[\"SL10\"], label = \"same, L10\")\n",
    "plt.plot(g[\"AGE\"], g[\"SL20\"], label = \"same, L20\")\n",
    "plt.plot(g[\"AGE\"], g[\"DL5\"], label = \"opposite, L5\")\n",
    "plt.plot(g[\"AGE\"], g[\"DL10\"], label = \"opposite, L10\")\n",
    "plt.plot(g[\"AGE\"], g[\"DL20\"], label = \"opposite, L20\")\n",
    "plt.xlabel('AGE')\n",
    "plt.ylabel('portion')\n",
    "plt.title(\"Portion of friends gender and age\")\n",
    "plt.legend()\n",
    "plt.show()"
   ]
  },
  {
   "cell_type": "code",
   "execution_count": null,
   "id": "a978eddb",
   "metadata": {},
   "outputs": [],
   "source": []
  }
 ],
 "metadata": {
  "kernelspec": {
   "display_name": "Python 3 (ipykernel)",
   "language": "python",
   "name": "python3"
  },
  "language_info": {
   "codemirror_mode": {
    "name": "ipython",
    "version": 3
   },
   "file_extension": ".py",
   "mimetype": "text/x-python",
   "name": "python",
   "nbconvert_exporter": "python",
   "pygments_lexer": "ipython3",
   "version": "3.8.12"
  }
 },
 "nbformat": 4,
 "nbformat_minor": 5
}
